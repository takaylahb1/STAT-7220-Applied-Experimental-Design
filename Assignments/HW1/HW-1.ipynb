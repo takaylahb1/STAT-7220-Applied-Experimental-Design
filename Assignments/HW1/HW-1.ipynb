{
 "cells": [
  {
   "cell_type": "markdown",
   "id": "a6d135f8",
   "metadata": {},
   "source": [
    "# Homework 1: Completely Randomized Designs\n",
    "## Dr. Austin R. Brown\n",
    "### School of Data Science & Analytics\n",
    "### Kennesaw State University\n",
    "\n",
    "**DUE: September 12, 2025**\n",
    "\n",
    "**INSTRUCTIONS:** You are a quality control analyst for a craft brewery experimenting with a new India Pale Ale (IPA). One key quality attribute of IPA is its bitterness, measured in International Bitterness Units (IBUs). The brewery wants to determine if the aging time (3, 4, or 5 weeks) affects the IBUs of the beer. To test this, the brewing team brews a single batch of the experimental IPA and divides it into aging tanks, with each tank randomly assigned to be aged for 3, 4, or 5 weeks. After aging, the IBUs of ten randomly selected bottles from each aging time are measured using a spectrophotometer. The data are in the file `IPA.xlsx`. With these data, I want you to:\n",
    "\n",
    "**Question 1.** Briefly define the objective of this experiment\n",
    "\n", Test
    "**Question 2.** Specify the outcome variable\n",
    "\n",
    "**Question 3.** Specify the independent variable. What are some possible lurking variables?\n",
    "\n",
    "**Question 4.** Briefly explain why a completely randomized design is appropriate for this experiment.\n",
    "\n",
    "**Question 5.** State the null and alternative hypotheses for this experiment.\n",
    "\n",
    "**Question 6.** Perform appropriate exploratory analysis, including summary statistics **and** data visualizations. Do the results of these analyses support the null or alternative hypothesis more strongly?\n",
    "\n",
    "**Question 7.** Build a one-way ANOVA model. Test the assumption of normality using **both** a visual method and a testing method. Do the results of the normality test(s) support the assumption of normality?\n",
    "\n",
    "**Question 8.** Test the assumption of homogeneity of variance using **both** a visual method and a testing method. Do the results of the test(s) support the assumption of homogeneity of variance?\n",
    "\n",
    "**Question 9.** Report the F-statistic and its associated p-value from the one-way ANOVA model. Which of our two hypotheses is more strongly supported? Why?\n",
    "\n",
    "**Question 10.** If the data more strongly support the alternative hypothesis, perform Tukey's HSD post-hoc test to determine which aging times are significantly different from each other. If the data more strongly support the null hypothesis, explain why a post-hoc test would not be appropriate.\n",
    "\n",
    "**Question 11.** Write a brief, contextual conclusion summarizing the results of your analyses."
   ]
  }
 ],
 "metadata": {
  "language_info": {
   "name": "python"
  }
 },
 "nbformat": 4,
 "nbformat_minor": 5
}
