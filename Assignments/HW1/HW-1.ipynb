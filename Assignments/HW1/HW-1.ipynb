{
 "cells": [
  {
   "cell_type": "markdown",
   "id": "a6d135f8",
   "metadata": {},
   "source": [
    "# Homework 1: Completely Randomized Designs\n",
    "## Dr. Austin R. Brown\n",
    "### School of Data Science & Analytics\n",
    "### Kennesaw State University\n",
    "\n",
    "**DUE: September 12, 2025**\n",
    "\n",
    "**INSTRUCTIONS:** You are a quality control analyst for a craft brewery experimenting with a new India Pale Ale (IPA). One key quality attribute of IPA is its bitterness, measured in International Bitterness Units (IBUs). The brewery wants to determine if the aging time (3, 4, or 5 weeks) affects the IBUs of the beer. To test this, the brewing team brews a single batch of the experimental IPA and divides it into aging tanks, with each tank randomly assigned to be aged for 3, 4, or 5 weeks. After aging, the IBUs of ten randomly selected bottles from each aging time are measured using a spectrophotometer. The data are in the file `IPA.xlsx`. With these data, I want you to:\n",
    "\n",
    "**Question 1.** Briefly define the objective of this experiment\n",
    "\n",
To determine whether aging time (3, 4, or 5 weeks) affects the bitterness of the IPA, measured in IBUs
    "**Question 2.** Specify the outcome variable\n",
    "\n",
IBU (International Bitterness Units) measured for each bottle (numeric).
    "**Question 3.** Specify the independent variable. What are some possible lurking variables?\n",
    "\n",
The Independent variables include: Aging time (categorical: 3 weeks, 4 weeks, 5 weeks).
Lurking variables include: Bottle to bottle filling variation, exposure differences while aging, measurement error. 
    "**Question 4.** Briefly explain why a completely randomized design is appropriate for this experiment.\n",
    "\n",
A completely randomized design (random assignment of tanks/aging assignments and random sampling of bottles) helps ensure factors are balanced across aging times. The main factor is a single categorical treatment (aging weeks) and the team used random assignment within a single batch, this design isolates the aging-time effect and supports unbiased comparison.
    "**Question 5.** State the null and alternative hypotheses for this experiment.\n",
    "\n",
H₀: μ₃ = μ₄ = μ₅ (no difference in mean IBU across aging times)
Hₐ: At least one mean differs
    "**Question 6.** Perform appropriate exploratory analysis, including summary statistics **and** data visualizations. Do the results of these analyses support the null or alternative hypothesis more strongly?\n",
    "\n",
Sample sizes: 10 bottles measured per aging time (n = 10 for each group).

Group summary (n, mean, std):

3 Weeks: n = 10, mean = 45.657, std = 5.549

4 Weeks: n = 10, mean = 60.164, std = 10.390

5 Weeks: n = 10, mean = 71.791, std = 12.628
This pattern supports alternative hypothesis 

    "**Question 7.** Build a one-way ANOVA model. Test the assumption of normality using **both** a visual method and a testing method. Do the results of the normality test(s) support the assumption of normality?\n",
    "\n",
Model fitted: IBU ~ C(Weeks) (one-way ANOVA).

Normality — visual method:

Group Q–Q plots and the residual Q–Q plot were produced. The Q–Q plots show points close to the reference line, no strong departures.

Normality — test method (Shapiro–Wilk):

3 Weeks: W = 0.9065, p = 0.2578

4 Weeks: W = 0.9446, p = 0.6056

5 Weeks: W = 0.9684, p = 0.8761

Residuals Shapiro–Wilk: W = 0.9877, p = 0.9734

    "**Question 8.** Test the assumption of homogeneity of variance using **both** a visual method and a testing method. Do the results of the test(s) support the assumption of homogeneity of variance?\n",
    "\n",
Visual method: Residuals vs fitted values plot shows no obvious funneling pattern; spreads appear comparable across fitted values.

Test method = 3.1377, p = 0.0595

Conclusion on homogeneity of variance: p ≈ 0.0595 (slightly above 0.05). This is marginal but not significant at α = 0.05, so we do not reject equal variances. 

    "**Question 9.** Report the F-statistic and its associated p-value from the one-way ANOVA model. Which of our two hypotheses is more strongly supported? Why?\n",
ANOVA results:

F-statistic = 17.2465

p-value < 0.001 (reported as 0.0000 in the output)

Because p < 0.05, we reject H₀.
    "\n",
    "**Question 10.** If the data more strongly support the alternative hypothesis, perform Tukey's HSD post-hoc test to determine which aging times are significantly different from each other. If the data more strongly support the null hypothesis, explain why a post-hoc test would not be appropriate.\n",
    "\n",

3 Weeks vs 4 Weeks: meandiff = 14.507, p-adj = 0.0083, 95% CI = [3.4518, 25.5622], reject H₀ (significant).

3 Weeks vs 5 Weeks: meandiff = 26.134, p-adj < 0.0001, 95% CI = [15.0788, 37.1892], reject H₀ (significant).

4 Weeks vs 5 Weeks: meandiff = 11.627, p-adj = 0.0378, 95% CI = [0.5718, 22.6822], reject H₀ (significant).

All three pairwise comparisons are statistically significant at α = 0.05. The differences are not only significant but also sizable in IBU units.
    "**Question 11.** Write a brief, contextual conclusion summarizing the results of your analyses."
Aging time has a statistically and practically significant effect on IPA bitterness (IBU). Mean IBUs rose with aging time in this experiment: about 45.7 IBU at 3 weeks, 60.2 IBU at 4 weeks, and 71.8 IBU at 5 weeks. All pairwise differences were statistically significant (Tukey HSD), with 5-week aging producing the highest bitterness.

 The change from 3 to 5 weeks is 26 IBU — a large, likely meaningful difference for most drinkers. If the brewery has a target IBU range for the product, aging time will be an important lever to hit that target.

   ]
  }
 ],
 "metadata": {
  "language_info": {
   "name": "python"
  }
 },
 "nbformat": 4,
 "nbformat_minor": 5
}
