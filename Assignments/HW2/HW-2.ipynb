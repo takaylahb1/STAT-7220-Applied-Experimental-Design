{
 "cells": [
  {
   "cell_type": "markdown",
   "id": "473cf89b",
   "metadata": {},
   "source": [
    "# Homework 2: Randomized Block and Latin Square Designs\n",
    "## Dr. Austin R. Brown\n",
    "### School of Data Science & Analytics\n",
    "### Kennesaw State University\n",
    "\n",
    "**DUE: October 3, 2025**\n",
    "\n",
    "**PART 1 INSTRUCTIONS:** You are an educational researcher interested in comparing different methods for teaching data science to undergraduate students. There are three different methods you are interested in comparing: (1) Direct Instruction (traditional method); (2) Inquiry-Based Learning (teacher facilitates student problem solving); (3) Collaborative Learning (students working in small groups). To compare these methods, you decide to randomly recruit undergraduate data science students to be part of a workshop on hypothesis testing basics. Students will be randomly assigned to one of three workshops, where each workshop employs a different teaching method. At the end of the workshop, students will be given a 50-question quiz where their understanding of hypothesis testing will be assessed. Percentage scores on this quiz serve as the outcome of interest.\n",
    "\n",
    "However, it would be apparent that the prior level of knowledge a student possess about hypothesis testing may serve as a potential confounding variable that you would want to control for. Thus, the Prior Knowledge a given student has about hypothesis testing is categorized into \"High\" and \"Low\". The data from this experiment are contained in the `Data Science Teaching Method.xlsx` file. With these data, your tasks are:\n",
    "\n",
    "**Question 1.** Briefly define the objective of this experiment\n",
    "\n", Compare three teaching methods (Direct Instruction, Inquiry-Based Learning, Collaborative Learning) on students’ percentage quiz scores while also looking at students’ prior knowledge (High vs Low).
    "**Question 2.** Specify the outcome variable\n",
    "\n",Percentage score on the 50-question quiz (Score).
    "**Question 3.** Specify the independent variable and blocking factor. What are some possible lurking variables?\n",
    "\n",Independent (treatment) variable: Teaching Method (Direct, Inquiry, Collaborative).
Blocking factor: Prior Knowledge (High, Low).
Possible confounding variables: instructor quality, student motivation/effort, prior course exposure, time of day, class size, demographic factors, assignment/homework differences
    "**Question 4.** Briefly explain why a randomized block design would be appropriate here. Similarly, explain why a completely randomized design would not be appropriate.\n",
    "\n",Randomized block design is appropriate because we expect used knowledge to strongly affect scores. Blocking on prior knowledge reduces variability so we compare methods at the same prior level.

A completely randomized design would not control for prior knowledge; if prior knowledge is unevenly distributed across methods, treatment comparisons could be biased.
    "**Question 5.** State the null and alternative hypotheses for this experiment.\n",
    "\n",𝐻0:H0: Mean quiz score is the same for all three methods.
𝐻𝑎:Ha: At least one method’s mean quiz score differs.
    "**Question 6.** Perform appropriate exploratory analysis, including summary statistics **and** data visualizations. Do the results of these analyses support the null or alternative hypothesis more strongly?\n",
    "\n",I computed group means and standard deviations by Method × Prior and produced boxplots and an interaction plot. (Summary table was displayed in the notebook.)
Visual inspection showed differences in mean scores across Methods; we proceed to formal ANOVA.
    "**Question 7.** Build a two-way ANOVA model. Test the assumption of normality using **both** a visual method and a testing method. Do the results of the normality test(s) support the assumption of normality?\n",
    "\n",Normality of residuals: Shapiro-Wilk W = 0.9843, p = 0.6344.

Interpretation: p > 0.05 → no evidence to reject normality of residuals (normality assumption is supported).

I also produced a QQ plot of residuals (in the executed notebook).
    "**Question 8.** Test the assumption of homogeneity of variance using **both** a visual method and a testing method. Do the results of the test(s) support the assumption of homogeneity of variance?\n",
    "\n", Visual: Residuals vs fitted plot produced (no obvious pattern). Levene test (across Methods, center=median): statistic = 1.3531, p = 0.2666.
    "**Question 9.** Report the F-statistic and its associated p-value for the treatment effect. Which of our two hypotheses is more strongly supported? Why?\n",
    "\n", Method effect: F = 16.4151, p = 0.000003 → strong evidence against 
𝐻0H0	​.Conclusion: The data strongly support the alternative hypothesis — at least one teaching method differs in mean score.
    "**Question 10.** If the data more strongly support the alternative hypothesis, perform Tukey's HSD post-hoc test to determine which levels of the treatment effect are significantly different from each other. If the data more strongly support the null hypothesis, explain why a post-hoc test would not be appropriate.\n",
    "\n",   Because the treatment effect is significant I ran Tukey HSD for Method. Key results:
Collaborative vs Direct: mean difference = −11.223, p-adj ≈ 0.0000 → significant (Direct > Collaborative by ~11.2 points).
Collaborative vs Inquiry: mean difference = −1.288, p-adj = 0.8478 → not significant.
Direct vs Inquiry: mean difference = +9.935, p-adj = 0.0003 → significant (Direct > Inquiry by ~9.9 points).
    "**Question 11.** Write a brief, contextual conclusion summarizing the results of your analyses, including potential limitations of this experiment.\n",
    "\n", Controlling for prior knowledge, teaching method had a statistically significant effect on quiz scores. Direct Instruction produced higher average scores than both Inquiry-Based Learning and Collaborative Learning; Inquiry and Collaborative did not differ significantly from each other. Prior knowledge itself was also a significant predictor.
    "**PART 2 INSTRUCTIONS**: Now suppose a university is evaluating the effectiveness of four different online learning platforms (say A, B, C, and D) on student engagement for students taking an undergraduate data science course in an online synchronous format. One section of the course is offered Monday through Thursday in the Morning, Early Afternoon, Mid-Afternoon, and Evening sections. Student engagement is measured through the total number of logins to the online learning platform for a given course section over the course of the\n",
    "semester. Below is a table describing the study design and factors:\n",
    "\n",
    "\n",
    "| Section \\ Day     | Monday | Tuesday | Wednesday | Thursday |\n",
    "|-------------------|--------|---------|-----------|----------|\n",
    "| **Morning**       | A      | B       | C         | D        |\n",
    "| **Early Afternoon** | B      | C       | D         | A        |\n",
    "| **Mid-Afternoon** | C      | D       | A         | B        |\n",
    "| **Evening**       | D      | A       | B         | C        |\n",
    "\n",
    "\n",
    "Here, our main interest is in comparing engagement across the online learning platforms, but we also want to control for Day of the Week as well as Time of Day, as these could potentially be confounding variables. The data for this experiment are contained in the `Online Learning and Engagement.xlsx` file. With these data, your tasks are:\n",
    "\n",
    "**Question 1.** Briefly define the objective of this experiment\n",
    "\n", Compare four online learning platforms (A, B, C, D) on student engagement (total logins) while controlling for Day of week and Time of day (i.e., using a Latin square arrangement).
    "**Question 2.** Specify the outcome variable\n",
    "\n",Total number of logins for the course section over the semester (Logins).
    "**Question 3.** Specify the independent variable and blocking factors. What are some other possible lurking variables?\n",
    "\n", Independent (treatment): Platform (A–D).
Blocking factors: Day (Monday–Thursday) and Time/Section (Morning, Early Afternoon, Mid-Afternoon, Evening).
Other lurking variables: section enrollment size, instructor differences, assignment schedules/deadlines, platform outages/performance, student population differences across times, course difficulty.
    "**Question 4.** Briefly explain why a Latin Square Design would be appropriate here. Similarly, explain why a completely randomized design or randomized block design would not be appropriate.\n",
    "\n",Latin square is appropriate because there are two blocking factors (Day and Time) and you want each platform to appear exactly once in each row (Day) and each column (Time). This balances the treatment. 
A completely randomized design would not control Day and Time and could confound Platform effects with day/time effects.
A randomized block design can only control one blocking factor at a time (either Day or Time), not both simultaneously; hence Latin square is preferred.
    "**Question 5.** State the null and alternative hypotheses for this experiment.\n",
    "\n", H0: Mean logins are equal across Platforms A, B, C, D.

𝐻𝑎:Ha: At least one Platform has a different mean logins.
    "**Question 6.** Perform appropriate exploratory analysis, including summary statistics **and** data visualizations. Do the results of these analyses support the null or alternative hypothesis more strongly?\n",
    "\n",  I computed means and standard deviations by Platform and produced boxplots and mean-by-day/time plots. Visuals showed  differences among platforms, so we proceed to ANOVA.
    "**Question 7.** Build a three-way ANOVA model. Test the assumption of normality using **both** a visual method and a testing method. Do the results of the normality test(s) support the assumption of normality?\n",
    "\n", Residuals normality (Shapiro-Wilk): W = 0.9752, p = 0.9138 → residuals consistent with normality. (QQ plot produced.)
    "**Question 8.** Test the assumption of homogeneity of variance using **both** a visual method and a testing method. Do the results of the test(s) support the assumption of homogeneity of variance?\n",
    "\n", Visual: Residuals vs fitted plot produced (no severe pattern).

Levene test (by Platform, center=median): stat = 0.1796, p = 0.9082 → no evidence of variance heterogeneity (assumption supported).
    "**Question 9.** Report the F-statistic and its associated p-value for the treatment effect. Which of our two hypotheses is more strongly supported? Why?\n",
    "\n", Platform: F = 1639.5266, p = 1.2294e-12 → very strong evidence against 
𝐻0H0	​.Interpretation: The data strongly support the alternative hypothesis — platform means differ.
    "**Question 10.** If the data more strongly support the alternative hypothesis, perform Tukey's HSD post-hoc test to determine which levels of the treatment effect are significantly different from each other. If the data more strongly support the null hypothesis, explain why a post-hoc test would not be appropriate.\n",
    "\n", Because Platform is highly significant, I ran Tukey HSD. Key pairwise results (from the Tukey summary):
A vs B: mean difference = −46.505, p-adj = 0.0347 → significant (A < B).
A vs C: mean difference = −73.945, p-adj = 0.0014 → significant (A < C).
C vs D: mean difference = 66.000, p-adj = 0.0034 → significant (C > D).
Other comparisons (B vs C, B vs D, A vs D) were not significant at α = 0.05.
So Platforms differ pairwise in several comparisons (A lower than B and C; C higher than D).
    "**Question 11.** Write a brief conclusion summarizing the results of your analyses, including potential limitations of this experiment."

Conclusion: After controlling for Day and Time, Platform had a highly significant effect on student engagement (logins). Tukey post-hoc indicates several pairwise differences (A < B, A < C, and C > D). Time of day also had a strong effect; Day of week did not.
   ]
  }
 ],
 "metadata": {
  "language_info": {
   "name": "python"
  }
 },
 "nbformat": 4,
 "nbformat_minor": 5
}
