{
 "cells": [
  {
   "cell_type": "markdown",
   "id": "d81af11c",
   "metadata": {},
   "source": [
    "# STAT 7220 - Midterm Exam\n",
    "## Dr. Austin R. Brown\n",
    "### School of Data Science & Analytics\n",
    "### Kennesaw State University\n",
    "\n",
    "**DUE: October 24, 2025**\n",
    "\n",
    "**PART 1 INSTRUCTIONS:** Suppose you are a video game controller manufacturer interested in estimating the perceived comfort level of controller grips. To achieve this, you decide to conduct an experiment to assess different material types used for the controller grips (plastic, rubber, silicone, and metal). 10 prototypes of each grip type are manufactured and given to professional gamers (who all play the same game -- Counter-Strike) to test. The gamers use the controllers regularly for one month and then rate the comfort level on a scale from 1 - 10 with greater scores indicating a greater level of perceived comfort (one decimal allowed). The data from this experiment are stored in the Video Game Controllers.xlsx file. With these data, your tasks are:\n",
    "\n",
    "**Question 1.** Briefly define the objective of this experiment\n",
    "\n", Estimate whether the perceived comfort (1–10 scale) differs between four grip materials: Plastic, Rubber, Silicone, Metal.
    "**Question 2.** Specify the outcome variable\n",
    "\n",Comfort score
    "**Question 3.** Specify the independent variable. What are some possible lurking variables?\n",
    "\n", Independent variable (factor): Material (4 levels: Plastic, Rubber, Silicone, Metal).
   Possible lurking variables: individual hand size, grip style, prior wrist/hand injuries, age, hours played per day, ambient temperature, controller weight, or subtle differences between prototype controllers beyond material.
    "**Question 4.** Briefly explain why a completely randomized design may be appropriate for this experiment.\n",
    "\n", Each prototype of each material was randomly assigned to professional gamers who tested them for a month.
Random assignment of prototypes to gamers removes systematic bias between material groups; hence CRD is appropriate.
    "**Question 5.** State the null and alternative hypotheses for this experiment.\n",
    "\n", 𝐻0:H0: All material group means are equal.
𝐻𝐴:HA: At least one material group mean differs from the others.

    "**Question 6.** Perform appropriate exploratory analysis, including summary statistics **and** data visualizations. Do the results of these analyses support the null or alternative hypothesis more strongly?\n",
    "\n",Group means (comfort), descending:
Silicone: 8.32
Rubber: 6.57
Plastic: 5.89
Metal: 4.95
    "**Question 7.** Build a one-way ANOVA model. Test the assumption of normality using **both** a testing and visual method. Do the results of the normality test(s) support the assumption of normality? \n",
    "\n", ANOVA table (treatment row): F = 47.478, p = 1.35×10⁻¹² → extremely small p-value.
    "**Question 8.** Test the assumption of homogeneity of variance using **both** a testing and visual method. Do the results of the test(s) support the assumption of homogeneity of variance?\n",
    "\n", Levene’s test (center = median): test statistic ≈ 1.369, p = 0.268. Yes — Levene’s p > 0.05 indicates we do not reject equal variances.
    "**Question 9.** Report the F-statistic and its associated p-value for the test for the treatment factor. Which of our two hypotheses is more strongly supported? Why?\n",
    "\n",  F = 47.478, p = 1.35×10⁻¹². Because p ≪ 0.05, the data strongly support the alternative hypothesis
    "**Question 10.** If the data more strongly support the alternative hypothesis, perform Tukey's HSD post-hoc test to determine which material types are significantly different from each other. If the data more strongly support the null hypothesis, explain why a post-hoc test would not be appropriate.\n",
    "\n",  Because ANOVA is significant, I ran Tukey HSD (family-wise α = 0.05). Significant pairwise differences (Tukey summary):
Silicone differs from Metal, Rubber, Plastic (Silicone > all).
Rubber differs from Metal (Rubber > Metal).
Plastic differs from Silicone (Plastic < Silicone).
Rubber vs Plastic was NOT significant at α=0.05 (p ≈ 0.11).
    "**Question 11.** Write a brief, contextual conclusion summarizing the results of your analyses.\n",
    "\n",The results show clear evidence that the type of grip material affects how comfortable players find the controllers. 
Silicone grips were rated the most comfortable, with an average score of about 8.3 out of 10, while metal grips were rated 
the least comfortable at around 5.0. Statistical tests confirmed these differences are significant, and the data met the assumptions needed for the analysis.
    "**PART 2 INSTRUCTIONS:** The same video game controller manufacturing company is now trying to get into the business of creating virtual reality/artificial intelligence content for education. Specifically, they want to build a VR experience to simulate working with elderly patients at a healthcare facility to better prepare nursing students for potential careers in working with elderly patients. To test the VR's effectiveness, a group of 40 undergraduate nursing students were randomly and equally assigned to either a class session utilizing the VR or a class session using a traditional technique for teaching strategies for working with elderly patients. At the end of the class session, a 50 question quiz was given to both groups which measures attitudes toward elderly people. Scores range from 0-50 with greater scores indicating more favorable attitudes toward elderly people and vice versa. However, some students in the group have had prior working experience with elderly people which may have an effect on the quiz outcome. So in the experiment, we document which students have had prior working experience with elderly people and which haven't. The results of the experiment are contained in the `Nursing VR Study.xlsx` file. With these data, your tasks are:\n",
    "\n",
    "**Question 1.** Briefly define the objective of this experiment\n",
    "\n", Determine whether the VR teaching session leads to different quiz scores (attitudes) compared with a traditional teaching method, while accounting for students’ prior experience with elderly people
    "**Question 2.** Specify the outcome variable\n",
    "\n",Quiz score (0–50), numeric.
    "**Question 3.** Specify the independent variable and blocking factor. What are some possible lurking variables?\n",
    "\n",Independent (treatment): Method (VR vs Traditional).
Blocking factor: PriorExperience
    "**Question 4.** Briefly explain why a randomized block design would be appropriate here. Similarly, explain why a completely randomized design would not be appropriate.\n",
    "\n", RBD is appropriate because prior experience is expected to affect final scores (it’s a known source of variability). Blocking reduces within-treatment 
variability attributable to prior experience, increasing power to detect a treatment effect. A CRD would ignore that prior experience can systematically 
affect scores and would likely increase error variance and reduce power.
    "**Question 5.** State the null and alternative hypotheses for this experiment.\n",
    "\n", H0: Mean quiz score for VR = mean quiz score for Traditional.
𝐻𝐴:HA	​: Mean quiz scores differ between VR and Traditional.
    "**Question 6.** Perform appropriate exploratory analysis, including summary statistics **and** data visualizations. Do the results of these analyses support the null or alternative hypothesis more strongly?\n",
    "\n", Group means:VR mean score = 40.75, Traditional mean score = 31.30
    "**Question 7.** Build a two-way ANOVA model. Test the assumption of normality using **both** a visual method and a testing method. Do the results of the normality test(s) support the assumption of normality?\n",
    "\n", Model fit: Score∼Treatment∗
PriorExperience Score∼Treatment∗PriorExperience
residuals and cells do not show evidence against normality
    "**Question 8.** Test the assumption of homogeneity of variance using **both** a visual method and a testing method. Do the results of the test(s) support the assumption of homogeneity of variance?\n",
    "\n", Levene across Treatment groups: p ≈ 0.236 (do not reject equal variances).
Levene across the four Treatment×PriorExperience cells: p ≈ 0.763 (do not reject equal variances).

    "**Question 9.** Report the F-statistic and its associated p-value for the treatment effect. Which of our two hypotheses is more strongly supported? Why?\n",
    "\n",Treatment: F = 21.275, p = 4.9×10⁻⁵.
This strongly supports the alternative hypothesis: the VR method produced different (higher) quiz scores than Traditional.
    "**Question 10.** If the data more strongly support the alternative hypothesis, perform Tukey's HSD post-hoc test to determine which levels of the treatment effect are significantly different from each other. If the data more strongly support the null hypothesis, explain why a post-hoc test would not be appropriate.\n",
    "\n",Because treatment (Method) is significant, I performed Tukey HSD for Method (two levels only). Results:
VR vs Traditional: mean difference ≈ 9.45 points, Tukey p < 0.001 — significant
    "**Question 11.** Write a brief, contextual conclusion summarizing the results of your analyses, including potential limitations of this experiment.\n",
    "\n",  
    "**PART 3 INSTRUCTIONS:** Please briefly respond to the following questions:\n",
    "\n",
    "**Question 1.** Give a reason why one-factor CRD wouldn't generally be appropriate for studies involving human participants.\n",
    "\n",Human participants often differ on many attributes (age, prior experience, baseline ability, etc.) that affect outcomes.
A one-factor CRD does not control or account for important sources of variability (blocking or covariates), so CRD can have reduced power or biased estimates 
if those uncontrolled differences are correlated with treatment assignment (or by chance). Blocking or including covariates (ANCOVA) is usually preferred.
    "**Question 2.** What is the purpose of post-hoc tests?\n",
    "\n",Post-hoc tests (e.g., Tukey HSD) identify which specific group means differ after an overall significant ANOVA.
    "**Question 3.** Explain the difference between RBD and LSD.\n",
    "\n",RBD (Randomized Block Design): Blocks (homogeneous groups) are formed on a known nuisance factor (e.g., prior experience),
and treatments are randomized within blocks.
LSD (Least Significant Difference) typically refers to Fisher’s LSD post-hoc procedure: after a significant ANOVA, 
pairwise t-tests are conducted without strong multiple-comparison adjustments (LSD is liberal unless the number of groups is small and the ANOVA is significant).

    "**Question 4.** Explain why randomization is important in designing experiments.\n",
    "\n", Randomization balances both observed and unobserved confounders across treatment groups (in expectation), ensures the validity of significance tests and inference, and reduces selection bias,
making causal interpretation of treatment effects more credible.
    "**Question 5.** Explain why replication is important in designing experiments.\n"
   ] Replication (multiple experimental units per treatment) reduces the impact of random variation,
improves precision of estimated effects,
  }
 ],
 "metadata": {
  "language_info": {
   "name": "python"
  }
 },
 "nbformat": 4,
 "nbformat_minor": 5
}
